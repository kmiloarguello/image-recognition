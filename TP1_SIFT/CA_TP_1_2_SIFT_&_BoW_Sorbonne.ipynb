{
 "cells": [
  {
   "cell_type": "code",
   "execution_count": 4,
   "metadata": {
    "id": "NfnKy8NB8J5e"
   },
   "outputs": [
    {
     "name": "stderr",
     "output_type": "stream",
     "text": [
      "'wget' is not recognized as an internal or external command,\n",
      "operable program or batch file.\n"
     ]
    }
   ],
   "source": [
    "# !wget http://webia.lip6.fr/~dancette/deep-learning/assets/TP1-2-data.zip\n",
    "# !unzip TP1-2-data.zip\n",
    "\n",
    "!wget http://webia.lip6.fr/~dancette/deep-learning/assets/TP1-2/tools.py"
   ]
  },
  {
   "cell_type": "code",
   "execution_count": 2,
   "metadata": {
    "id": "2vQ_LLdx8J5b"
   },
   "outputs": [],
   "source": [
    "import matplotlib\n",
    "import matplotlib.pyplot as plt\n",
    "%matplotlib inline  \n",
    "\n",
    "import numpy as np\n",
    "%run \"tools.py\"\n",
    "from os.path import join\n",
    "\n",
    "data_path = \"data\""
   ]
  },
  {
   "cell_type": "markdown",
   "metadata": {
    "id": "48x_ha7f8J5i"
   },
   "source": [
    "# Partie 1 : SIFT"
   ]
  },
  {
   "cell_type": "code",
   "execution_count": 3,
   "metadata": {
    "id": "pxZOH3wD8J5i"
   },
   "outputs": [
    {
     "data": {
      "text/plain": [
       "<matplotlib.image.AxesImage at 0x1261a8e1f70>"
      ]
     },
     "execution_count": 3,
     "metadata": {},
     "output_type": "execute_result"
    },
    {
     "data": {
      "image/png": "[encoded data removed]",
      "text/plain": [
       "<Figure size 432x288 with 1 Axes>"
      ]
     },
     "metadata": {
      "needs_background": "light"
     },
     "output_type": "display_data"
    }
   ],
   "source": [
    "# example images\n",
    "I = read_grayscale(join(data_path, 'tools.tiff'))\n",
    "I2 = read_grayscale(join(data_path, 'Scene/CALsuburb/image_0205.jpg'))\n",
    "plt.imshow(I)"
   ]
  },
  {
   "cell_type": "code",
   "execution_count": null,
   "metadata": {
    "id": "EJKLEzx88J5k"
   },
   "outputs": [],
   "source": [
    "def compute_grad(I):\n",
    "    #####################\n",
    "    ## Votre code ici  ##\n",
    "    #####################\n",
    "\n",
    "\n",
    "    \n",
    "    ####################\n",
    "    ##      FIN        #\n",
    "    ####################\n",
    "    return Ix, Iy\n",
    "\n",
    "# example d'affichage du résultat\n",
    "Ix, Iy = compute_grad(I)\n",
    "plt.imshow(Ix)\n",
    "plt.colorbar()\n",
    "plt.show()\n",
    "plt.imshow(Iy)\n",
    "plt.colorbar()\n",
    "plt.show()"
   ]
  },
  {
   "cell_type": "code",
   "execution_count": null,
   "metadata": {
    "id": "GtizX1JV8J5n"
   },
   "outputs": [],
   "source": [
    "def compute_grad_mod_ori(I):\n",
    "    #####################\n",
    "    ## Votre code ici  ##\n",
    "    #####################\n",
    "\n",
    "\n",
    "    \n",
    "    ####################\n",
    "    ##      FIN        #\n",
    "    ####################\n",
    "    return Gn, Go"
   ]
  },
  {
   "cell_type": "code",
   "execution_count": null,
   "metadata": {
    "id": "ktUrFzsk8J5p"
   },
   "outputs": [],
   "source": [
    "Gn, Go = compute_grad_mod_ori(I)\n",
    "plt.imshow(Gn)\n",
    "plt.show()\n",
    "plt.imshow(Go)\n",
    "plt.show()"
   ]
  },
  {
   "cell_type": "code",
   "execution_count": null,
   "metadata": {
    "id": "gOo5S8nu8J5r"
   },
   "outputs": [],
   "source": [
    "def compute_histogram(g_n, g_o):\n",
    "    \"\"\"\n",
    "    g_n and g_o are 4x4 matrices that contain the norm, and the discretized orientation.\n",
    "    Warning: g_o can contain -1, those values should be discarded.\n",
    "    \"\"\"\n",
    "    hist = np.zeros((8))\n",
    "\n",
    "    #####################\n",
    "    ## Votre code ici  ##\n",
    "    #####################\n",
    "\n",
    "    \n",
    "    ####################\n",
    "    ##      FIN        #\n",
    "    ####################\n",
    "    return hist\n",
    "  "
   ]
  },
  {
   "cell_type": "code",
   "execution_count": null,
   "metadata": {
    "id": "eAsumzFI8J5u"
   },
   "outputs": [],
   "source": [
    "def compute_sift_region(Gn, Go, mask=None):\n",
    "    t_min=.5\n",
    "    t_max=.2\n",
    "    with_l2 = True\n",
    "\n",
    "    patch_size = 16\n",
    "    sift = np.zeros((128)) \n",
    "\n",
    "    if mask is not None:\n",
    "        Gn = Gn * mask\n",
    "    \n",
    "    idx = 0\n",
    "    for k in range(0, patch_size, 4):\n",
    "        for l in range(0, patch_size, 4):\n",
    "            hist = compute_histogram(Gn[l:l+4,k:k+4], Go[l:l+4,k:k+4])            \n",
    "            sift[idx:idx+8] = hist\n",
    "            idx += 8\n",
    "\n",
    "    norm = np.linalg.norm(sift, ord=2)\n",
    "    # min thresholding on norm\n",
    "    if norm <= t_min:\n",
    "        return np.zeros((128))\n",
    "    # l2-normalization\n",
    "    if with_l2:\n",
    "        sift = sift / norm\n",
    "    # max thresholding on values\n",
    "    sift[sift >= t_max] = t_max\n",
    "    # l2-normalization\n",
    "    if with_l2:\n",
    "        norm = np.linalg.norm(sift, ord=2)\n",
    "        sift = sift / norm\n",
    "    return sift"
   ]
  },
  {
   "cell_type": "code",
   "execution_count": null,
   "metadata": {
    "id": "GESlu74v8J5w"
   },
   "outputs": [],
   "source": [
    "# Example of viz of SIFTs\n",
    "# set gausm to True to apply mask weighting of gradients\n",
    "#display_sift_region(I,           compute_grad_mod_ori, compute_sift_region, x=200, y=78, gausm=False)\n",
    "#display_sift_region(marche_im(), compute_grad_mod_ori, compute_sift_region, x=100, y=125, gausm=False)\n",
    "#display_sift_region(marche_im(), compute_grad_mod_ori, compute_sift_region, x=100, y=125, gausm=False)\n",
    "#display_sift_region(marche_im(), compute_grad_mod_ori, compute_sift_region, x=125, y=100, gausm=False)\n",
    "#display_sift_region(marche_im(), compute_grad_mod_ori, compute_sift_region, x=121, y=121, gausm=False)\n",
    "#display_sift_region(toy_im(),    compute_grad_mod_ori, compute_sift_region, x=95, y=95, gausm=False)"
   ]
  },
  {
   "cell_type": "code",
   "execution_count": null,
   "metadata": {
    "id": "f68dU2zc8J5y"
   },
   "outputs": [],
   "source": [
    "def compute_sift_image(I):\n",
    "    x, y = dense_sampling(I)\n",
    "    im = auto_padding(I)\n",
    "    m = gaussian_mask()\n",
    "    \n",
    "    #####################\n",
    "    ## Votre code ici  ##\n",
    "    #####################\n",
    "    # Ici, effectuez les calculs sur l'image globale (norme, gradients)\n",
    "    Gn, Go = None\n",
    "\n",
    "    ####################\n",
    "    ##      FIN        #\n",
    "    ####################\n",
    "\n",
    "    sifts = np.zeros((len(x), len(y), 128))\n",
    "    for i, xi in enumerate(x):\n",
    "        for j, yj in enumerate(y):\n",
    "            #####################\n",
    "            ## Votre code ici  ##\n",
    "            #####################\n",
    "\n",
    "            sifts[i, j, :] = None # TODO SIFT du patch de coordonnee (xi, yj)\n",
    "\n",
    "            ####################\n",
    "            ##      FIN        #\n",
    "            ####################\n",
    "\n",
    "    return sifts"
   ]
  },
  {
   "cell_type": "markdown",
   "metadata": {
    "id": "yZukBC_K8J50"
   },
   "source": [
    "# Compute SIFT"
   ]
  },
  {
   "cell_type": "markdown",
   "metadata": {
    "id": "yrzmLgQA8J50"
   },
   "source": [
    "Le calcul durera plusieurs minutes."
   ]
  },
  {
   "cell_type": "code",
   "execution_count": null,
   "metadata": {
    "id": "oGMbF2Sj9cus"
   },
   "outputs": [],
   "source": [
    "from google.colab import drive\n",
    "drive.mount('/content/gdrive')"
   ]
  },
  {
   "cell_type": "code",
   "execution_count": null,
   "metadata": {
    "id": "PlKBdt558J57"
   },
   "outputs": [],
   "source": [
    "max_images_per_class = 10  # You can change this to None to compute the whole dataset (takes quite some time)\n",
    "\n",
    "save_path = \"/content/gdrive/My Drive/rdfia/\"\n",
    "dir_sc = os.path.join(data_path, 'Scene')\n",
    "dir_sift = os.path.join(save_path, 'sift')\n",
    "inames, ilabls, cnames = load_dataset(dir_sc, images_per_class=max_images_per_class)\n",
    "sifts_list_by_image = compute_load_sift_dataset(dir_sc, dir_sift, inames, compute_sift_image)"
   ]
  },
  {
   "cell_type": "markdown",
   "metadata": {
    "id": "OrHHH5PL8J54"
   },
   "source": [
    "# Partie 2 : Dictionnaire visuel"
   ]
  },
  {
   "cell_type": "code",
   "execution_count": null,
   "metadata": {
    "id": "9q755wymUvQQ"
   },
   "outputs": [],
   "source": [
    "from sklearn.cluster import KMeans\n",
    "\n",
    "path_vdict = os.path.join(save_path, 'kmeans', 'vdict.npy')\n",
    "os.makedirs(os.path.join(save_path, 'kmeans'), exist_ok=True)"
   ]
  },
  {
   "cell_type": "code",
   "execution_count": null,
   "metadata": {
    "id": "w42e1Z6d8J6A"
   },
   "outputs": [],
   "source": [
    "# Code here the `compute_visual_dict` function\n",
    "def compute_visual_dict(sift, n_clusters=1000, n_init=1, verbose=1):\n",
    "    # reorder data\n",
    "    dim_sift = sift[0].shape[-1]\n",
    "    sift = [s.reshape(-1, dim_sift) for s in sift]\n",
    "    sift = np.concatenate(sift, axis=0)\n",
    "    # remove zero vectors\n",
    "    keep = ~np.all(sift==0, axis=1)\n",
    "    sift = sift[keep]\n",
    "    # randomly pick sift\n",
    "    ids, _ = compute_split(sift.shape[0], pc=0.05)\n",
    "    sift = sift[ids]\n",
    "\n",
    "    # TODO compute kmeans on `sift`, get cluster centers, add zeros vector, and return visual dict\n",
    "    #####################\n",
    "    ## Votre code ici  ##\n",
    "    #####################\n",
    "\n",
    "    vdict = None\n",
    "    \n",
    "    ####################\n",
    "    ##      FIN        #\n",
    "    ####################\n",
    "    return vdict\n"
   ]
  },
  {
   "cell_type": "code",
   "execution_count": null,
   "metadata": {
    "id": "97qG503C8J6C"
   },
   "outputs": [],
   "source": [
    "# Run the visual dict computation (saved the first time)\n",
    "vdict = compute_or_load_vdict(dir_sc, dir_sift, inames, compute_sift_image, path_vdict, compute_visual_dict)"
   ]
  },
  {
   "cell_type": "code",
   "execution_count": null,
   "metadata": {
    "id": "pcpOdcs58J6F"
   },
   "outputs": [],
   "source": [
    "# Study of the dict\n",
    "\n",
    "# choose random images\n",
    "indexes = np.random.randint(0, len(inames), 30)\n",
    "sifts = [sifts_list_by_image[i] for i in indexes]\n",
    "chosen_inames = [inames[i] for i in indexes]\n",
    "\n",
    "regions, sifts = get_regions_and_sifts(dir_sc, chosen_inames, sifts) # Compute SIFT and regions from 30 random images\n",
    "display_images(regions[np.random.choice(len(regions), 100)]) # Show 100 random regions\n",
    "\n",
    "# TODO visually analyze the dict through similar example regions\n",
    "#\n",
    "# Ideally, create `vdregions`, a numpy array of size 1001 x 16 x 16 where each of the 1001 elements is a\n",
    "# \"prototype\" patch that is very close to the cluster center"
   ]
  },
  {
   "cell_type": "markdown",
   "metadata": {
    "id": "5FV1iss68J6H"
   },
   "source": [
    "# Partie 3 : BoW"
   ]
  },
  {
   "cell_type": "code",
   "execution_count": null,
   "metadata": {
    "id": "5-h4r-FH8J6I"
   },
   "outputs": [],
   "source": [
    "# TODO Compute BoW for an image\n",
    "# indication: scipy.spatial.distance_matrix\n",
    "from sklearn.metrics.pairwise import euclidean_distances\n",
    "from scipy.spatial import distance_matrix\n",
    "\n",
    "def compute_feats(vdict, image_sifts):\n",
    "    \"\"\"\n",
    "    vdict: (num_clusters, 128): visual dictionnary containing all clusters.\n",
    "    image_sifts: (H, W, 128) all sift features from the given image\n",
    "    \"\"\"\n",
    "    # flatten sifts\n",
    "    sifts = image_sifts.reshape(-1, 128)  # (N, 128)\n",
    "    feats = np.zeros(vdict.shape[0])\n",
    "\n",
    "    ##################### \n",
    "    ## Votre code ici  ##\n",
    "    #####################\n",
    "    # compute distance from image sifts to vdict\n",
    "\n",
    "  \n",
    "    ####################\n",
    "    ##      FIN        #\n",
    "    ####################\n",
    "    return feats"
   ]
  },
  {
   "cell_type": "code",
   "execution_count": null,
   "metadata": {
    "id": "Is9sv-RM8J6K"
   },
   "outputs": [],
   "source": [
    "# Visualize your BoW on an image\n",
    "\n",
    "iname = inames[0]\n",
    "ipath = os.path.join(dir_sc, iname)\n",
    "im = read_grayscale(ipath)\n",
    "sift = compute_sift_image(im)\n",
    "sift = (sift * 255).astype('uint8')\n",
    "regions = compute_regions(im)\n",
    "feats = compute_feats(vdict, sift)\n",
    "\n",
    "display_vdregions_image(im, vdict, sift, feats, vdregions=None) # if you have vdregions, add it as input here"
   ]
  },
  {
   "cell_type": "markdown",
   "metadata": {
    "id": "xEmnYyZdE_vH"
   },
   "source": []
  }
 ],
 "metadata": {
  "colab": {
   "collapsed_sections": [],
   "name": "TP 1-2 SIFT & BoW - Sorbonne.ipynb",
   "provenance": [],
   "toc_visible": true
  },
  "kernelspec": {
   "display_name": "Python 3",
   "language": "python",
   "name": "python3"
  },
  "language_info": {
   "codemirror_mode": {
    "name": "ipython",
    "version": 3
   },
   "file_extension": ".py",
   "mimetype": "text/x-python",
   "name": "python",
   "nbconvert_exporter": "python",
   "pygments_lexer": "ipython3",
   "version": "3.8.3"
  }
 },
 "nbformat": 4,
 "nbformat_minor": 1
}
